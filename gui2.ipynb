{
 "cells": [
  {
   "cell_type": "code",
   "execution_count": 22,
   "id": "c0f40a20",
   "metadata": {},
   "outputs": [],
   "source": [
    "import tkinter as tk\n",
    "from tkinter import filedialog\n",
    "from tkinter import *\n",
    "from sklearn import metrics\n",
    "from tensorflow.keras.models import model_from_json\n",
    "from PIL import Image, ImageTk\n",
    "import numpy as np\n",
    "import cv2"
   ]
  },
  {
   "cell_type": "code",
   "execution_count": 23,
   "id": "96e44476",
   "metadata": {},
   "outputs": [
    {
     "name": "stdout",
     "output_type": "stream",
     "text": [
      "1/1 [==============================] - 0s 414ms/step\n",
      "1/1 [==============================] - 0s 82ms/step\n"
     ]
    }
   ],
   "source": [
    "def FacialExpressionModel(json_file, weights_file):\n",
    "    with open(json_file,'r') as file:\n",
    "        loaded_model_json = file.read()\n",
    "        model = model_from_json(loaded_model_json)\n",
    "    model.load_weights(weights_file)\n",
    "    model.compile(optimizer='adam', loss='categorical_crossentropy', metrics='accuracy')\n",
    "\n",
    "    return model\n",
    "top = tk.Tk()\n",
    "top.geometry('800x600')\n",
    "top.title(\"Emotion detector\")\n",
    "top.configure(background = '#CDCDCD')\n",
    "\n",
    "\n",
    "label1 = Label(top, background='#CDCDCD', font=('arial',15,'bold'))\n",
    "sign_image = Label(top)\n",
    "\n",
    "facec = cv2.CascadeClassifier('harcascade_frantalface_default.xml')\n",
    "model = FacialExpressionModel('model_a1.json','model_weights.h5')\n",
    "\n",
    "\n",
    "EMOTION_LIST = ['Angry','Disgust','Fear','Happy','Nutral','Sad','Surprise']\n",
    "\n",
    "def Detect(file_path):\n",
    "    global Label_packed\n",
    "    image = cv2.imread(file_path)\n",
    "    gray_image = cv2.cvtColor(image, cv2.COLOR_BGR2GRAY)\n",
    "    faces = facec.detectMultiScale(gray_image,1.3,5)\n",
    "    try:\n",
    "        for (x,y,w,h) in faces:\n",
    "            fc = gray_image[y:y+h,x:x+w]\n",
    "            roi = cv2.resize(fc,(48,48))\n",
    "            pred = EMOTION_LIST(np.argmax(model.predict(roi[np.newaxis,:,:,np.newaxis])))\n",
    "        print('Predicted Emotion is : ' + pred)\n",
    "        label1.configure(foreground='#011638',text=pred)\n",
    "    except:\n",
    "        label1.configure(foreground='#011638', text = 'Unable to detect')\n",
    "\n",
    "\n",
    "def show_Detect_button(file_path):\n",
    "    detect_b = Button(top, text='Detect Emotion', command=(lambda: Detect(file_path)), padx=10,pady=5)\n",
    "    detect_b.configure(background='#364156',foreground='white',font=('arial',10,'bold'))\n",
    "    detect_b.place(relx=0.79, rely=0.50)\n",
    "\n",
    "def upload_image():\n",
    "    try:\n",
    "        file_path= filedialog.askopenfilename()\n",
    "        uploaded = Image.open(file_path)\n",
    "        uploaded.thumbnail(((top.winfo_width()/2),(top.winfo_height()/2.25)))\n",
    "        im = ImageTk.PhotoImage(uploaded)\n",
    "\n",
    "        sign_image.configure(image=im)\n",
    "        sign_image.image = im\n",
    "        label1.configure(text = ' ')\n",
    "        show_Detect_button(file_path)\n",
    "    except:\n",
    "        pass\n",
    "\n",
    "upload = Button(top, text='upload image',command=upload_image,padx=10, pady=5)\n",
    "upload.configure(background='#364156', foreground='white',font=('arial',20,'bold'))\n",
    "upload.pack(side='bottom', pady=50)\n",
    "\n",
    "sign_image.pack(side='bottom',expand='True')\n",
    "label1.pack(side='bottom',expand='True')\n",
    "heading = Label(top,text='Emosion Detector', pady=20,font=('arial',25,'bold'))\n",
    "heading.configure(background='#CDCDCD',foreground='#364156')\n",
    "heading.pack()\n",
    "top.mainloop()\n"
   ]
  },
  {
   "cell_type": "code",
   "execution_count": 117,
   "id": "cacb6fe7",
   "metadata": {},
   "outputs": [],
   "source": []
  },
  {
   "cell_type": "code",
   "execution_count": 118,
   "id": "a0acb302",
   "metadata": {},
   "outputs": [],
   "source": []
  },
  {
   "cell_type": "code",
   "execution_count": null,
   "id": "3f9cda7b",
   "metadata": {},
   "outputs": [],
   "source": []
  },
  {
   "cell_type": "code",
   "execution_count": null,
   "id": "1b371c7a",
   "metadata": {},
   "outputs": [],
   "source": []
  }
 ],
 "metadata": {
  "kernelspec": {
   "display_name": "Python 3 (ipykernel)",
   "language": "python",
   "name": "python3"
  },
  "language_info": {
   "codemirror_mode": {
    "name": "ipython",
    "version": 3
   },
   "file_extension": ".py",
   "mimetype": "text/x-python",
   "name": "python",
   "nbconvert_exporter": "python",
   "pygments_lexer": "ipython3",
   "version": "3.10.9"
  }
 },
 "nbformat": 4,
 "nbformat_minor": 5
}
